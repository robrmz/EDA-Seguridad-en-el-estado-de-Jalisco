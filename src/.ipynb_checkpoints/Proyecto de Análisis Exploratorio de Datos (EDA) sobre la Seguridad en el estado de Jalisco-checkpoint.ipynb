{
 "cells": [
  {
   "cell_type": "markdown",
   "id": "a6e6ea2d",
   "metadata": {},
   "source": [
    "\n",
    "# Roberto Ramirez\n",
    "## Desarrollo de Proyecto I\n",
    "### Proyecto de Análisis Exploratorio de Datos (EDA) sobre la Seguridad en Jalisco\n",
    "\n",
    "\n",
    "El presente proyecto de Análisis Exploratorio de Datos (EDA) tiene como objetivo investigar y comprender en profundidad la dinámica delictiva en el estado de Jalisco, utilizando una base de datos detallada proveniente de la plataforma de seguridad del estado. Esta base de datos proporciona información valiosa sobre diversos delitos reportados, incluyendo la fecha, tipo de delito, ubicación geográfica, hora, bien afectado y otros atributos relevantes.\n",
    "\n",
    "El análisis se centra en desentrañar patrones, tendencias y relaciones significativas dentro de los datos. A través del uso de técnicas estadísticas y visuales, se pretende identificar áreas geográficas con altos índices delictivos, períodos de tiempo críticos y posibles correlaciones entre ciertos tipos de delitos y variables como ubicación, hora del día o bienes afectados.\n",
    "\n",
    "La base de datos contiene información detallada sobre una variedad de delitos, desde robos hasta homicidios, ocurridos en diferentes municipios y colonias de Jalisco. Cada entrada en la base de datos incluye información específica, como la fecha del incidente, tipo de delito, ubicación geográfica (coordenadas x y y), colonia, municipio, clave municipal, hora del día, bien afectado y zona geográfica.\n",
    "\n",
    "Este análisis EDA no solo busca proporcionar una visión clara y comprensiva de la situación delictiva en Jalisco, sino también ofrecer valiosas perspectivas para informar políticas públicas, estrategias de seguridad y toma de decisiones basada en datos. Al examinar detenidamente estos datos, se espera generar conocimientos significativos que contribuyan a la mejora de la seguridad y calidad de vida de los habitantes del estado de Jalisco."
   ]
  },
  {
   "cell_type": "markdown",
   "id": "3969bcb9",
   "metadata": {},
   "source": [
    "## Descripción de los datos"
   ]
  },
  {
   "cell_type": "markdown",
   "id": "41c55a80",
   "metadata": {},
   "source": [
    "### Cargamos los datos"
   ]
  },
  {
   "cell_type": "code",
   "execution_count": 1,
   "id": "796d742a",
   "metadata": {},
   "outputs": [
    {
     "ename": "FileNotFoundError",
     "evalue": "[Errno 2] No such file or directory: 'datos_seguridad.csv'",
     "output_type": "error",
     "traceback": [
      "\u001b[0;31m---------------------------------------------------------------------------\u001b[0m",
      "\u001b[0;31mFileNotFoundError\u001b[0m                         Traceback (most recent call last)",
      "Cell \u001b[0;32mIn[1], line 9\u001b[0m\n\u001b[1;32m      6\u001b[0m \u001b[38;5;28;01mimport\u001b[39;00m \u001b[38;5;21;01mseaborn\u001b[39;00m \u001b[38;5;28;01mas\u001b[39;00m \u001b[38;5;21;01msns\u001b[39;00m\n\u001b[1;32m      7\u001b[0m \u001b[38;5;28;01mimport\u001b[39;00m \u001b[38;5;21;01mmatplotlib\u001b[39;00m\u001b[38;5;21;01m.\u001b[39;00m\u001b[38;5;21;01mpyplot\u001b[39;00m \u001b[38;5;28;01mas\u001b[39;00m \u001b[38;5;21;01mplt\u001b[39;00m\n\u001b[0;32m----> 9\u001b[0m data \u001b[38;5;241m=\u001b[39m \u001b[43mpd\u001b[49m\u001b[38;5;241;43m.\u001b[39;49m\u001b[43mread_csv\u001b[49m\u001b[43m(\u001b[49m\u001b[38;5;124;43m\"\u001b[39;49m\u001b[38;5;124;43mdatos_seguridad.csv\u001b[39;49m\u001b[38;5;124;43m\"\u001b[39;49m\u001b[43m)\u001b[49m\n\u001b[1;32m     11\u001b[0m \u001b[38;5;66;03m#Guardamos una copia de los datos para graficar por hora. \u001b[39;00m\n\u001b[1;32m     12\u001b[0m data_orig \u001b[38;5;241m=\u001b[39m data\n",
      "File \u001b[0;32m~/anaconda3/lib/python3.10/site-packages/pandas/util/_decorators.py:211\u001b[0m, in \u001b[0;36mdeprecate_kwarg.<locals>._deprecate_kwarg.<locals>.wrapper\u001b[0;34m(*args, **kwargs)\u001b[0m\n\u001b[1;32m    209\u001b[0m     \u001b[38;5;28;01melse\u001b[39;00m:\n\u001b[1;32m    210\u001b[0m         kwargs[new_arg_name] \u001b[38;5;241m=\u001b[39m new_arg_value\n\u001b[0;32m--> 211\u001b[0m \u001b[38;5;28;01mreturn\u001b[39;00m \u001b[43mfunc\u001b[49m\u001b[43m(\u001b[49m\u001b[38;5;241;43m*\u001b[39;49m\u001b[43margs\u001b[49m\u001b[43m,\u001b[49m\u001b[43m \u001b[49m\u001b[38;5;241;43m*\u001b[39;49m\u001b[38;5;241;43m*\u001b[39;49m\u001b[43mkwargs\u001b[49m\u001b[43m)\u001b[49m\n",
      "File \u001b[0;32m~/anaconda3/lib/python3.10/site-packages/pandas/util/_decorators.py:331\u001b[0m, in \u001b[0;36mdeprecate_nonkeyword_arguments.<locals>.decorate.<locals>.wrapper\u001b[0;34m(*args, **kwargs)\u001b[0m\n\u001b[1;32m    325\u001b[0m \u001b[38;5;28;01mif\u001b[39;00m \u001b[38;5;28mlen\u001b[39m(args) \u001b[38;5;241m>\u001b[39m num_allow_args:\n\u001b[1;32m    326\u001b[0m     warnings\u001b[38;5;241m.\u001b[39mwarn(\n\u001b[1;32m    327\u001b[0m         msg\u001b[38;5;241m.\u001b[39mformat(arguments\u001b[38;5;241m=\u001b[39m_format_argument_list(allow_args)),\n\u001b[1;32m    328\u001b[0m         \u001b[38;5;167;01mFutureWarning\u001b[39;00m,\n\u001b[1;32m    329\u001b[0m         stacklevel\u001b[38;5;241m=\u001b[39mfind_stack_level(),\n\u001b[1;32m    330\u001b[0m     )\n\u001b[0;32m--> 331\u001b[0m \u001b[38;5;28;01mreturn\u001b[39;00m \u001b[43mfunc\u001b[49m\u001b[43m(\u001b[49m\u001b[38;5;241;43m*\u001b[39;49m\u001b[43margs\u001b[49m\u001b[43m,\u001b[49m\u001b[43m \u001b[49m\u001b[38;5;241;43m*\u001b[39;49m\u001b[38;5;241;43m*\u001b[39;49m\u001b[43mkwargs\u001b[49m\u001b[43m)\u001b[49m\n",
      "File \u001b[0;32m~/anaconda3/lib/python3.10/site-packages/pandas/io/parsers/readers.py:950\u001b[0m, in \u001b[0;36mread_csv\u001b[0;34m(filepath_or_buffer, sep, delimiter, header, names, index_col, usecols, squeeze, prefix, mangle_dupe_cols, dtype, engine, converters, true_values, false_values, skipinitialspace, skiprows, skipfooter, nrows, na_values, keep_default_na, na_filter, verbose, skip_blank_lines, parse_dates, infer_datetime_format, keep_date_col, date_parser, dayfirst, cache_dates, iterator, chunksize, compression, thousands, decimal, lineterminator, quotechar, quoting, doublequote, escapechar, comment, encoding, encoding_errors, dialect, error_bad_lines, warn_bad_lines, on_bad_lines, delim_whitespace, low_memory, memory_map, float_precision, storage_options)\u001b[0m\n\u001b[1;32m    935\u001b[0m kwds_defaults \u001b[38;5;241m=\u001b[39m _refine_defaults_read(\n\u001b[1;32m    936\u001b[0m     dialect,\n\u001b[1;32m    937\u001b[0m     delimiter,\n\u001b[0;32m   (...)\u001b[0m\n\u001b[1;32m    946\u001b[0m     defaults\u001b[38;5;241m=\u001b[39m{\u001b[38;5;124m\"\u001b[39m\u001b[38;5;124mdelimiter\u001b[39m\u001b[38;5;124m\"\u001b[39m: \u001b[38;5;124m\"\u001b[39m\u001b[38;5;124m,\u001b[39m\u001b[38;5;124m\"\u001b[39m},\n\u001b[1;32m    947\u001b[0m )\n\u001b[1;32m    948\u001b[0m kwds\u001b[38;5;241m.\u001b[39mupdate(kwds_defaults)\n\u001b[0;32m--> 950\u001b[0m \u001b[38;5;28;01mreturn\u001b[39;00m \u001b[43m_read\u001b[49m\u001b[43m(\u001b[49m\u001b[43mfilepath_or_buffer\u001b[49m\u001b[43m,\u001b[49m\u001b[43m \u001b[49m\u001b[43mkwds\u001b[49m\u001b[43m)\u001b[49m\n",
      "File \u001b[0;32m~/anaconda3/lib/python3.10/site-packages/pandas/io/parsers/readers.py:605\u001b[0m, in \u001b[0;36m_read\u001b[0;34m(filepath_or_buffer, kwds)\u001b[0m\n\u001b[1;32m    602\u001b[0m _validate_names(kwds\u001b[38;5;241m.\u001b[39mget(\u001b[38;5;124m\"\u001b[39m\u001b[38;5;124mnames\u001b[39m\u001b[38;5;124m\"\u001b[39m, \u001b[38;5;28;01mNone\u001b[39;00m))\n\u001b[1;32m    604\u001b[0m \u001b[38;5;66;03m# Create the parser.\u001b[39;00m\n\u001b[0;32m--> 605\u001b[0m parser \u001b[38;5;241m=\u001b[39m \u001b[43mTextFileReader\u001b[49m\u001b[43m(\u001b[49m\u001b[43mfilepath_or_buffer\u001b[49m\u001b[43m,\u001b[49m\u001b[43m \u001b[49m\u001b[38;5;241;43m*\u001b[39;49m\u001b[38;5;241;43m*\u001b[39;49m\u001b[43mkwds\u001b[49m\u001b[43m)\u001b[49m\n\u001b[1;32m    607\u001b[0m \u001b[38;5;28;01mif\u001b[39;00m chunksize \u001b[38;5;129;01mor\u001b[39;00m iterator:\n\u001b[1;32m    608\u001b[0m     \u001b[38;5;28;01mreturn\u001b[39;00m parser\n",
      "File \u001b[0;32m~/anaconda3/lib/python3.10/site-packages/pandas/io/parsers/readers.py:1442\u001b[0m, in \u001b[0;36mTextFileReader.__init__\u001b[0;34m(self, f, engine, **kwds)\u001b[0m\n\u001b[1;32m   1439\u001b[0m     \u001b[38;5;28mself\u001b[39m\u001b[38;5;241m.\u001b[39moptions[\u001b[38;5;124m\"\u001b[39m\u001b[38;5;124mhas_index_names\u001b[39m\u001b[38;5;124m\"\u001b[39m] \u001b[38;5;241m=\u001b[39m kwds[\u001b[38;5;124m\"\u001b[39m\u001b[38;5;124mhas_index_names\u001b[39m\u001b[38;5;124m\"\u001b[39m]\n\u001b[1;32m   1441\u001b[0m \u001b[38;5;28mself\u001b[39m\u001b[38;5;241m.\u001b[39mhandles: IOHandles \u001b[38;5;241m|\u001b[39m \u001b[38;5;28;01mNone\u001b[39;00m \u001b[38;5;241m=\u001b[39m \u001b[38;5;28;01mNone\u001b[39;00m\n\u001b[0;32m-> 1442\u001b[0m \u001b[38;5;28mself\u001b[39m\u001b[38;5;241m.\u001b[39m_engine \u001b[38;5;241m=\u001b[39m \u001b[38;5;28;43mself\u001b[39;49m\u001b[38;5;241;43m.\u001b[39;49m\u001b[43m_make_engine\u001b[49m\u001b[43m(\u001b[49m\u001b[43mf\u001b[49m\u001b[43m,\u001b[49m\u001b[43m \u001b[49m\u001b[38;5;28;43mself\u001b[39;49m\u001b[38;5;241;43m.\u001b[39;49m\u001b[43mengine\u001b[49m\u001b[43m)\u001b[49m\n",
      "File \u001b[0;32m~/anaconda3/lib/python3.10/site-packages/pandas/io/parsers/readers.py:1735\u001b[0m, in \u001b[0;36mTextFileReader._make_engine\u001b[0;34m(self, f, engine)\u001b[0m\n\u001b[1;32m   1733\u001b[0m     \u001b[38;5;28;01mif\u001b[39;00m \u001b[38;5;124m\"\u001b[39m\u001b[38;5;124mb\u001b[39m\u001b[38;5;124m\"\u001b[39m \u001b[38;5;129;01mnot\u001b[39;00m \u001b[38;5;129;01min\u001b[39;00m mode:\n\u001b[1;32m   1734\u001b[0m         mode \u001b[38;5;241m+\u001b[39m\u001b[38;5;241m=\u001b[39m \u001b[38;5;124m\"\u001b[39m\u001b[38;5;124mb\u001b[39m\u001b[38;5;124m\"\u001b[39m\n\u001b[0;32m-> 1735\u001b[0m \u001b[38;5;28mself\u001b[39m\u001b[38;5;241m.\u001b[39mhandles \u001b[38;5;241m=\u001b[39m \u001b[43mget_handle\u001b[49m\u001b[43m(\u001b[49m\n\u001b[1;32m   1736\u001b[0m \u001b[43m    \u001b[49m\u001b[43mf\u001b[49m\u001b[43m,\u001b[49m\n\u001b[1;32m   1737\u001b[0m \u001b[43m    \u001b[49m\u001b[43mmode\u001b[49m\u001b[43m,\u001b[49m\n\u001b[1;32m   1738\u001b[0m \u001b[43m    \u001b[49m\u001b[43mencoding\u001b[49m\u001b[38;5;241;43m=\u001b[39;49m\u001b[38;5;28;43mself\u001b[39;49m\u001b[38;5;241;43m.\u001b[39;49m\u001b[43moptions\u001b[49m\u001b[38;5;241;43m.\u001b[39;49m\u001b[43mget\u001b[49m\u001b[43m(\u001b[49m\u001b[38;5;124;43m\"\u001b[39;49m\u001b[38;5;124;43mencoding\u001b[39;49m\u001b[38;5;124;43m\"\u001b[39;49m\u001b[43m,\u001b[49m\u001b[43m \u001b[49m\u001b[38;5;28;43;01mNone\u001b[39;49;00m\u001b[43m)\u001b[49m\u001b[43m,\u001b[49m\n\u001b[1;32m   1739\u001b[0m \u001b[43m    \u001b[49m\u001b[43mcompression\u001b[49m\u001b[38;5;241;43m=\u001b[39;49m\u001b[38;5;28;43mself\u001b[39;49m\u001b[38;5;241;43m.\u001b[39;49m\u001b[43moptions\u001b[49m\u001b[38;5;241;43m.\u001b[39;49m\u001b[43mget\u001b[49m\u001b[43m(\u001b[49m\u001b[38;5;124;43m\"\u001b[39;49m\u001b[38;5;124;43mcompression\u001b[39;49m\u001b[38;5;124;43m\"\u001b[39;49m\u001b[43m,\u001b[49m\u001b[43m \u001b[49m\u001b[38;5;28;43;01mNone\u001b[39;49;00m\u001b[43m)\u001b[49m\u001b[43m,\u001b[49m\n\u001b[1;32m   1740\u001b[0m \u001b[43m    \u001b[49m\u001b[43mmemory_map\u001b[49m\u001b[38;5;241;43m=\u001b[39;49m\u001b[38;5;28;43mself\u001b[39;49m\u001b[38;5;241;43m.\u001b[39;49m\u001b[43moptions\u001b[49m\u001b[38;5;241;43m.\u001b[39;49m\u001b[43mget\u001b[49m\u001b[43m(\u001b[49m\u001b[38;5;124;43m\"\u001b[39;49m\u001b[38;5;124;43mmemory_map\u001b[39;49m\u001b[38;5;124;43m\"\u001b[39;49m\u001b[43m,\u001b[49m\u001b[43m \u001b[49m\u001b[38;5;28;43;01mFalse\u001b[39;49;00m\u001b[43m)\u001b[49m\u001b[43m,\u001b[49m\n\u001b[1;32m   1741\u001b[0m \u001b[43m    \u001b[49m\u001b[43mis_text\u001b[49m\u001b[38;5;241;43m=\u001b[39;49m\u001b[43mis_text\u001b[49m\u001b[43m,\u001b[49m\n\u001b[1;32m   1742\u001b[0m \u001b[43m    \u001b[49m\u001b[43merrors\u001b[49m\u001b[38;5;241;43m=\u001b[39;49m\u001b[38;5;28;43mself\u001b[39;49m\u001b[38;5;241;43m.\u001b[39;49m\u001b[43moptions\u001b[49m\u001b[38;5;241;43m.\u001b[39;49m\u001b[43mget\u001b[49m\u001b[43m(\u001b[49m\u001b[38;5;124;43m\"\u001b[39;49m\u001b[38;5;124;43mencoding_errors\u001b[39;49m\u001b[38;5;124;43m\"\u001b[39;49m\u001b[43m,\u001b[49m\u001b[43m \u001b[49m\u001b[38;5;124;43m\"\u001b[39;49m\u001b[38;5;124;43mstrict\u001b[39;49m\u001b[38;5;124;43m\"\u001b[39;49m\u001b[43m)\u001b[49m\u001b[43m,\u001b[49m\n\u001b[1;32m   1743\u001b[0m \u001b[43m    \u001b[49m\u001b[43mstorage_options\u001b[49m\u001b[38;5;241;43m=\u001b[39;49m\u001b[38;5;28;43mself\u001b[39;49m\u001b[38;5;241;43m.\u001b[39;49m\u001b[43moptions\u001b[49m\u001b[38;5;241;43m.\u001b[39;49m\u001b[43mget\u001b[49m\u001b[43m(\u001b[49m\u001b[38;5;124;43m\"\u001b[39;49m\u001b[38;5;124;43mstorage_options\u001b[39;49m\u001b[38;5;124;43m\"\u001b[39;49m\u001b[43m,\u001b[49m\u001b[43m \u001b[49m\u001b[38;5;28;43;01mNone\u001b[39;49;00m\u001b[43m)\u001b[49m\u001b[43m,\u001b[49m\n\u001b[1;32m   1744\u001b[0m \u001b[43m\u001b[49m\u001b[43m)\u001b[49m\n\u001b[1;32m   1745\u001b[0m \u001b[38;5;28;01massert\u001b[39;00m \u001b[38;5;28mself\u001b[39m\u001b[38;5;241m.\u001b[39mhandles \u001b[38;5;129;01mis\u001b[39;00m \u001b[38;5;129;01mnot\u001b[39;00m \u001b[38;5;28;01mNone\u001b[39;00m\n\u001b[1;32m   1746\u001b[0m f \u001b[38;5;241m=\u001b[39m \u001b[38;5;28mself\u001b[39m\u001b[38;5;241m.\u001b[39mhandles\u001b[38;5;241m.\u001b[39mhandle\n",
      "File \u001b[0;32m~/anaconda3/lib/python3.10/site-packages/pandas/io/common.py:856\u001b[0m, in \u001b[0;36mget_handle\u001b[0;34m(path_or_buf, mode, encoding, compression, memory_map, is_text, errors, storage_options)\u001b[0m\n\u001b[1;32m    851\u001b[0m \u001b[38;5;28;01melif\u001b[39;00m \u001b[38;5;28misinstance\u001b[39m(handle, \u001b[38;5;28mstr\u001b[39m):\n\u001b[1;32m    852\u001b[0m     \u001b[38;5;66;03m# Check whether the filename is to be opened in binary mode.\u001b[39;00m\n\u001b[1;32m    853\u001b[0m     \u001b[38;5;66;03m# Binary mode does not support 'encoding' and 'newline'.\u001b[39;00m\n\u001b[1;32m    854\u001b[0m     \u001b[38;5;28;01mif\u001b[39;00m ioargs\u001b[38;5;241m.\u001b[39mencoding \u001b[38;5;129;01mand\u001b[39;00m \u001b[38;5;124m\"\u001b[39m\u001b[38;5;124mb\u001b[39m\u001b[38;5;124m\"\u001b[39m \u001b[38;5;129;01mnot\u001b[39;00m \u001b[38;5;129;01min\u001b[39;00m ioargs\u001b[38;5;241m.\u001b[39mmode:\n\u001b[1;32m    855\u001b[0m         \u001b[38;5;66;03m# Encoding\u001b[39;00m\n\u001b[0;32m--> 856\u001b[0m         handle \u001b[38;5;241m=\u001b[39m \u001b[38;5;28;43mopen\u001b[39;49m\u001b[43m(\u001b[49m\n\u001b[1;32m    857\u001b[0m \u001b[43m            \u001b[49m\u001b[43mhandle\u001b[49m\u001b[43m,\u001b[49m\n\u001b[1;32m    858\u001b[0m \u001b[43m            \u001b[49m\u001b[43mioargs\u001b[49m\u001b[38;5;241;43m.\u001b[39;49m\u001b[43mmode\u001b[49m\u001b[43m,\u001b[49m\n\u001b[1;32m    859\u001b[0m \u001b[43m            \u001b[49m\u001b[43mencoding\u001b[49m\u001b[38;5;241;43m=\u001b[39;49m\u001b[43mioargs\u001b[49m\u001b[38;5;241;43m.\u001b[39;49m\u001b[43mencoding\u001b[49m\u001b[43m,\u001b[49m\n\u001b[1;32m    860\u001b[0m \u001b[43m            \u001b[49m\u001b[43merrors\u001b[49m\u001b[38;5;241;43m=\u001b[39;49m\u001b[43merrors\u001b[49m\u001b[43m,\u001b[49m\n\u001b[1;32m    861\u001b[0m \u001b[43m            \u001b[49m\u001b[43mnewline\u001b[49m\u001b[38;5;241;43m=\u001b[39;49m\u001b[38;5;124;43m\"\u001b[39;49m\u001b[38;5;124;43m\"\u001b[39;49m\u001b[43m,\u001b[49m\n\u001b[1;32m    862\u001b[0m \u001b[43m        \u001b[49m\u001b[43m)\u001b[49m\n\u001b[1;32m    863\u001b[0m     \u001b[38;5;28;01melse\u001b[39;00m:\n\u001b[1;32m    864\u001b[0m         \u001b[38;5;66;03m# Binary mode\u001b[39;00m\n\u001b[1;32m    865\u001b[0m         handle \u001b[38;5;241m=\u001b[39m \u001b[38;5;28mopen\u001b[39m(handle, ioargs\u001b[38;5;241m.\u001b[39mmode)\n",
      "\u001b[0;31mFileNotFoundError\u001b[0m: [Errno 2] No such file or directory: 'datos_seguridad.csv'"
     ]
    }
   ],
   "source": [
    "import pandas as pd\n",
    "import datetime as dt\n",
    "import folium\n",
    "from folium import plugins\n",
    "from folium.plugins import HeatMap\n",
    "import seaborn as sns\n",
    "import matplotlib.pyplot as plt\n",
    "\n",
    "data = pd.read_csv(\"datos_seguridad.csv\")\n",
    "\n",
    "#Guardamos una copia de los datos para graficar por hora. \n",
    "data_orig = data\n",
    "\n",
    "\n",
    "#### Paleta de colores / seaborn\n",
    "minimal_palette =  [\n",
    "    \"#004c6d\", \"#0f5071\", \"#1a5575\", \"#225979\", \"#2a5d7d\", \"#316281\",\n",
    "    \"#376685\", \"#3e6a89\", \"#446f8d\", \"#4b748f\", \"#527991\", \"#587e93\",\n",
    "    \"#5e8395\", \"#648896\", \"#6a8e98\", \"#70939a\", \"#75989c\", \"#7b9da0\",\n",
    "    \"#81a1a2\", \"#87a6a4\", \"#8caaa6\", \"#92afaa\", \"#98b4ac\", \"#9eb8ae\"\n",
    "]\n",
    "\n",
    "static_palette = [\"#1a5575\"]"
   ]
  },
  {
   "cell_type": "markdown",
   "id": "2bc807f5",
   "metadata": {},
   "source": [
    "### Mostramos los primeros y últimos datos\n",
    "Esto con el objetivo de identificar las características de nuestro set de datos y posiblemente errores que hayan en él. "
   ]
  },
  {
   "cell_type": "code",
   "execution_count": null,
   "id": "0a317202",
   "metadata": {},
   "outputs": [],
   "source": [
    "#Mostramos las primeras 5 filas\n",
    "data.head()"
   ]
  },
  {
   "cell_type": "code",
   "execution_count": null,
   "id": "a709a74d",
   "metadata": {
    "scrolled": true
   },
   "outputs": [],
   "source": [
    "#Mostramos las últimas 5 filas\n",
    "data.tail()"
   ]
  },
  {
   "cell_type": "code",
   "execution_count": null,
   "id": "06e748f8",
   "metadata": {},
   "outputs": [],
   "source": [
    "#Mostramos las variables\n",
    "data.columns"
   ]
  },
  {
   "cell_type": "markdown",
   "id": "98fd8317",
   "metadata": {},
   "source": [
    "Contamos con 10 columnas en total."
   ]
  },
  {
   "cell_type": "code",
   "execution_count": null,
   "id": "fd0ebb2c",
   "metadata": {},
   "outputs": [],
   "source": [
    "#Mostramos información general\n",
    "data.info()"
   ]
  },
  {
   "cell_type": "code",
   "execution_count": null,
   "id": "37b0c2a4",
   "metadata": {},
   "outputs": [],
   "source": [
    "#El número de valores únicos para cada columna\n",
    "data.nunique()"
   ]
  },
  {
   "cell_type": "markdown",
   "id": "8ddcb3dd",
   "metadata": {},
   "source": [
    "Las columnas de interés para esto último son **delito**, **colonia**, **municipio**, **bien_afectado**, y **zona_geografica**, pues estas muestran, cuantos tipos de delito, en cuantas colonias, municipios, bien afectado y en qué zona se encuentra. Por esto, nos damos a la tarea de mostrar los distintos valores de algunos de estas variables de interés. "
   ]
  },
  {
   "cell_type": "code",
   "execution_count": null,
   "id": "802b2ea8",
   "metadata": {},
   "outputs": [],
   "source": [
    "columnas_categoricas = [\"delito\", \"bien_afectado\", \"zona_geografica\",\"clave_mun\"]\n",
    "\n",
    "for i in columnas_categoricas:\n",
    "    valores_unicos = data[i].unique()\n",
    "    cantidad_valores_unicos = len(valores_unicos)\n",
    "    print(f\"Valores únicos en la columna {i}: {valores_unicos}\")\n",
    "    print(f\"La cantidad de valores únicos en la columna {i} es de {cantidad_valores_unicos}\")\n",
    "    print(\"\\t\")\n"
   ]
  },
  {
   "cell_type": "code",
   "execution_count": null,
   "id": "d3f84fa5",
   "metadata": {},
   "outputs": [],
   "source": [
    "#Numero de delitos reportados\n",
    "\n",
    "print(\"Entre enero de 2017 a septiembre 2023, se han reportado\", data.shape[0]+1, \"delitos en el estado de Jalisco.\")"
   ]
  },
  {
   "cell_type": "code",
   "execution_count": null,
   "id": "cba3963d",
   "metadata": {},
   "outputs": [],
   "source": [
    "#Numero de valores nan\n",
    "\n",
    "data.isnull().sum()"
   ]
  },
  {
   "cell_type": "markdown",
   "id": "28af5cf2",
   "metadata": {},
   "source": [
    "Solo se encontraron valores nulos en las columnas x,y, que corresponden a coordenadas geograficas, es decir que del total de 530190 observaciones, 33153 no tienen coordenadas, aproximadamente el 6.25% del total."
   ]
  },
  {
   "cell_type": "markdown",
   "id": "261eba86",
   "metadata": {},
   "source": [
    "### Más información de los datos\n",
    "- Rango de datos: Enero 2017 a Septiembre 2023\n",
    "- Alcance: Estatal\n",
    "- Granularidad de zona geográfica: colonia\n",
    "\n",
    "A primera vista, podemos hacer un par de observaciones:\n",
    "- Valores NaN presentes, especialmente en las coordenadas. \n",
    "- Columna 'hora' que pueda no estar en el mismo formato.\n",
    "- Columna 'fecha' que pueda no estar estandarizada.\n"
   ]
  },
  {
   "cell_type": "markdown",
   "id": "912a97aa",
   "metadata": {},
   "source": [
    "## Limpieza de datos"
   ]
  },
  {
   "cell_type": "code",
   "execution_count": null,
   "id": "446bdeaa",
   "metadata": {},
   "outputs": [],
   "source": [
    "#Devolvemos sus datos a su índice original sin alteraciones. \n",
    "data.reset_index(drop=True, inplace=True)"
   ]
  },
  {
   "cell_type": "markdown",
   "id": "1afec3db",
   "metadata": {},
   "source": [
    "Se tiene planteado hacer un mapa de delitos, por lo que es imprescindible tener las coordenadas. Anteriormente vimos que hay filas que no tienen estos valores, por lo que tenemos dos opciones:\n",
    "\n",
    "- Usar el municipio, y establecer un punto común para todos aquellos valores que falten de zona geográfica.\n",
    "- Eliminar los valores con datos nulos, o sin coordenadas. \n",
    "\n",
    "Una de las ventajas del primer acercamiento es preservar la mayor cantidad de datos, mientras que una de las desventajas es perder exactitud. Dicho esto, el segundo acercamiento hace prescindir del 6.25% de los datos, pero conservando la exactitud. Este último acercamiento es el que parece el más atractivo, pues nos planteamos hacer un mapa más adelante, lo que requiere la mayor exactitud posible. Entonces se procede a remover los datos nulos."
   ]
  },
  {
   "cell_type": "code",
   "execution_count": null,
   "id": "57643461",
   "metadata": {},
   "outputs": [],
   "source": [
    "#Removemos NAs\n",
    "data = data.dropna().reset_index(drop=True)\n",
    "#Comprobamos que no haya valores nulos. \n",
    "data.isnull().sum()"
   ]
  },
  {
   "cell_type": "code",
   "execution_count": null,
   "id": "ae7f54d4",
   "metadata": {},
   "outputs": [],
   "source": [
    "data.info()"
   ]
  },
  {
   "cell_type": "markdown",
   "id": "f0ea4f7d",
   "metadata": {},
   "source": [
    "La mayoria de las columnas son del tipo que corresponde, pero tenemos columnas *datetime* que no lo son, por lo que procedemos a transformarlas, estas son las columnas 'fecha' y 'hora'."
   ]
  },
  {
   "cell_type": "code",
   "execution_count": null,
   "id": "3696e410",
   "metadata": {},
   "outputs": [],
   "source": [
    "# Convertir la columna 'fecha' a formato de fecha\n",
    "data['fecha'] = pd.to_datetime(data['fecha'])\n",
    "\n",
    "# Convertir la columna 'hora' a formato de hora (asegúrate de que la columna 'hora' esté en un formato que pandas pueda entender, como '5:30 PM')\n",
    "# Al tratar de convertir la hora, encontramos que hay otros valores del tipo 'N.D.' \n",
    "# que indica que no está disponible la hora.\n",
    "# Se usó data['hora'] = pd.to_datetime(data['hora']).dt.time para corroborar. "
   ]
  },
  {
   "cell_type": "markdown",
   "id": "4ad983d9",
   "metadata": {},
   "source": [
    "Tratamos de averiguar cuantos de estos valores cumplen con el criterio de 'N.D.' en la variable 'hora'."
   ]
  },
  {
   "cell_type": "code",
   "execution_count": null,
   "id": "a97643fe",
   "metadata": {},
   "outputs": [],
   "source": [
    "nds = ['N.D.']\n",
    "print(data.loc[data['hora'].isin(nds)].shape[0], \"es el número de filas sin hora disponible.\")"
   ]
  },
  {
   "cell_type": "markdown",
   "id": "0bb4fad7",
   "metadata": {},
   "source": [
    "Lo anterior nos dice que tenemos una buena parte de nuestros datos sin fecha disponible. Debido a esto, tenemos que tratar estos datos. El acercamiento que haremos con esto es de establecer una hora por defecto para estos valores, para lo que estoy pensando sería justo la media noche, es decir, las 00:00 horas. "
   ]
  },
  {
   "cell_type": "code",
   "execution_count": null,
   "id": "01eaa1bb",
   "metadata": {},
   "outputs": [],
   "source": [
    "#establecemos la media noche para las horas de las que no se tenga registro\n",
    "data.loc[data['hora'] == 'N.D.', 'hora'] = '00:00'"
   ]
  },
  {
   "cell_type": "code",
   "execution_count": null,
   "id": "54788383",
   "metadata": {},
   "outputs": [],
   "source": [
    "#corroboramos el cambio - no encontrar valores N.D. significa que esto fue exitoso. \n",
    "data.loc[data['hora'].isin(nds)].head(2)"
   ]
  },
  {
   "cell_type": "code",
   "execution_count": null,
   "id": "30578d8d",
   "metadata": {},
   "outputs": [],
   "source": [
    "#Reemplazar punto y coma con dos puntos en la columna 'hora', pues identificamos esto posteriormente\n",
    "data['hora'] = data['hora'].str.replace(';', ':')\n",
    "data['hora'] = data['hora'].str.replace('000:0', '00:00')\n",
    "\n",
    "# Limpiar los datos de la columna 'hora' para contener solo dígitos y dos puntos\n",
    "data['hora'] = data['hora'].str.extract(r'(\\d+:\\d+)')\n",
    "\n",
    "# Asignamos finalmente nuestro formato de hora. \n",
    "#data['hora'] = pd.to_datetime(data['hora'], format='%H:%M', errors='coerce').dt.time"
   ]
  },
  {
   "cell_type": "markdown",
   "id": "65ef5dd2",
   "metadata": {},
   "source": [
    "Lo anterior nos costó que algunos de los datos de hora vuelvan a ser 'NA', pues tampoco tienen formato ni cumplen la condición de 'tener solo dígitos y dos puntos'"
   ]
  },
  {
   "cell_type": "code",
   "execution_count": null,
   "id": "ff90e877",
   "metadata": {},
   "outputs": [],
   "source": [
    "data.isnull().sum()"
   ]
  },
  {
   "cell_type": "markdown",
   "id": "56c92c2f",
   "metadata": {},
   "source": [
    "Se encontró también que estos NAs son menos que los mostrados anteriormente, entonces podemos decir que esta vez sí podemos prescindir de estos. "
   ]
  },
  {
   "cell_type": "code",
   "execution_count": null,
   "id": "e60c21a2",
   "metadata": {},
   "outputs": [],
   "source": [
    "#Removemos NAs\n",
    "data = data.dropna().reset_index(drop=True)\n",
    "data.isnull().sum()\n",
    "data['hora'] = pd.to_datetime(data['hora'], format='%H:%M', errors='coerce').dt.time"
   ]
  },
  {
   "cell_type": "markdown",
   "id": "0f6fe3a0",
   "metadata": {},
   "source": [
    "### Revisamos una segunda vez nuestros datos"
   ]
  },
  {
   "cell_type": "code",
   "execution_count": null,
   "id": "656ffa5c",
   "metadata": {},
   "outputs": [],
   "source": [
    "data.head()"
   ]
  },
  {
   "cell_type": "code",
   "execution_count": null,
   "id": "59215c9d",
   "metadata": {},
   "outputs": [],
   "source": [
    "data.info()"
   ]
  },
  {
   "cell_type": "markdown",
   "id": "153d62a2",
   "metadata": {},
   "source": [
    "## Visualización de datos"
   ]
  },
  {
   "cell_type": "markdown",
   "id": "0cc0fbc2",
   "metadata": {},
   "source": [
    "### Heat Map de delitos en el Estado"
   ]
  },
  {
   "cell_type": "code",
   "execution_count": null,
   "id": "7b550ee0",
   "metadata": {
    "scrolled": false
   },
   "outputs": [],
   "source": [
    "%%time\n",
    "df = pd.DataFrame(data)\n",
    "\n",
    "# crear mapa basado en las coordenadas, y,x.\n",
    "map_center = [df['y'].mean(), df['x'].mean()]\n",
    "m = folium.Map(location=map_center, zoom_start=7, tiles='CartoDB Positron')\n",
    "\n",
    "# Crear una lista de latitudes y longitudes\n",
    "heat_data = [[row['y'], row['x']] for index, row in df.iterrows()]\n",
    "\n",
    "# Agregar la capa de mapa de calor basado en la incidencia. \n",
    "HeatMap(heat_data, min_opacity=0.2, radius=15, blur=10, \n",
    "        gradient={0.1: 'blue', 0.4: 'green', 0.7: 'yellow', 1.0: 'red'}).add_to(m)\n",
    "\n",
    "\n",
    "m"
   ]
  },
  {
   "cell_type": "markdown",
   "id": "68037fe0",
   "metadata": {},
   "source": [
    "### Número de delitos por categoría"
   ]
  },
  {
   "cell_type": "code",
   "execution_count": null,
   "id": "55bec6f5",
   "metadata": {},
   "outputs": [],
   "source": [
    "# Cuenta el numero de delitos por cada uno de ellos\n",
    "delito_counts = data['delito'].value_counts()\n",
    "\n",
    "\n",
    "#crear un barplot. \n",
    "plt.figure(figsize=(10, 6))\n",
    "sns.set_palette(\"Paired\")\n",
    "sns.barplot(x=delito_counts.index, y=delito_counts.values, palette=minimal_palette)\n",
    "plt.xlabel('Tipo de delitos')\n",
    "plt.ylabel('Num. Delitos')\n",
    "plt.title('Num de delitos reportados en el Estado de Jalisco (Enero 2017 a Septiembre 2023)')\n",
    "plt.xticks(rotation=90)\n",
    "plt.tight_layout()\n",
    "plt.show()\n",
    "df.set_index('fecha', inplace=True)  # Set 'fecha' column as the index\n"
   ]
  },
  {
   "cell_type": "markdown",
   "id": "48243355",
   "metadata": {},
   "source": [
    "### Tendencia de delitos (2017 a 2023)"
   ]
  },
  {
   "cell_type": "code",
   "execution_count": null,
   "id": "2dff4236",
   "metadata": {
    "scrolled": false
   },
   "outputs": [],
   "source": [
    "# Definimos una paleta, para así poder usar un color diferente para cada gráfica\n",
    "delito_palette = sns.color_palette(\"husl\", len(df['delito'].unique()))\n",
    "\n",
    "# Creamos un grid de 4x4 para cada tipo de delito \n",
    "delito_types = df['delito'].unique()\n",
    "num_rows, num_cols = 4, 4\n",
    "fig, axes = plt.subplots(nrows=num_rows, ncols=num_cols, figsize=(20, 20), sharex=False, sharey=False)  # Set sharey to False\n",
    "\n",
    "#iteramos sobre cada uno de los delitos\n",
    "for i, delito_type in enumerate(delito_types):\n",
    "    row = i // num_cols\n",
    "    col = i % num_cols\n",
    "    subset = df[df['delito'] == delito_type]\n",
    "    yearly_counts = subset.resample('A').size()  # Resample data to yearly frequency and calculate counts\n",
    "    yearly_counts.index = yearly_counts.index.year\n",
    "    sns.lineplot(x=yearly_counts.index, y=yearly_counts.values, ax=axes[row, col], label=delito_type, color=delito_palette[i], linewidth=2.5)  # Set linewidth to make the lines bolder\n",
    "    axes[row, col].set_ylabel('Count')\n",
    "    axes[row, col].set_title(f'Yearly Changes for Delito Type: {delito_type}')\n",
    "    axes[row, col].tick_params(axis='x', rotation=0)\n",
    "    axes[row, col].legend()\n",
    "\n",
    "for i in range(len(delito_types), num_rows * num_cols):\n",
    "    fig.delaxes(axes.flatten()[i])\n",
    "\n",
    "plt.tight_layout()\n",
    "plt.show()"
   ]
  },
  {
   "cell_type": "code",
   "execution_count": null,
   "id": "a6555652",
   "metadata": {},
   "outputs": [],
   "source": [
    "municipio_count = data['municipio'].value_counts()\n",
    "municipio_count = municipio_count.iloc[:20]\n",
    "delitos = list(data['delito'].unique())\n",
    "\n",
    "plt.figure(figsize=(10, 6))\n",
    "sns.barplot(x=municipio_count.index, y=municipio_count.values, palette=static_palette)\n",
    "plt.xlabel('Municipio')\n",
    "plt.ylabel('Num. Delitos')\n",
    "plt.title('Num de delitos reportados en el Estado de Jalisco (Enero 2017 a Septiembre 2023) por municipio (20 principales)')\n",
    "plt.xticks(rotation=90)\n",
    "plt.show()"
   ]
  },
  {
   "cell_type": "code",
   "execution_count": null,
   "id": "5afb803f",
   "metadata": {},
   "outputs": [],
   "source": [
    "#tratar los datos, derivado de la copia anteriormente creada. Aplicar el mismo tratamiento,\n",
    "#excepto la reasignación de N.D. a 00:00\n",
    "data_orig = data_orig[data_orig['hora'] != 'N.D.']\n",
    "data_orig['hora'] = data_orig['hora'].str.replace(';', ':')\n",
    "data_orig['hora'] = data_orig['hora'].str.replace('000:0', '00:00')\n",
    "data_orig['hora'] = data_orig['hora'].str.extract(r'(\\d+:\\d+)')\n",
    "data_orig['hora'] = pd.to_datetime(data_orig['hora'], format='%H:%M', errors='coerce').dt.time\n",
    "data_orig['hour'] = data_orig['hora'].apply(lambda x: x.hour)\n",
    "data_orig.reset_index(drop=True, inplace=True)\n",
    "\n",
    "#graficar\n",
    "sns.countplot(x='hour', data=data_orig, palette=static_palette)\n",
    "plt.xlabel('Hora')\n",
    "plt.ylabel('Delitos')\n",
    "plt.title('Distribución de delitos por hora')\n",
    "plt.xticks(rotation=90)\n",
    "plt.show()"
   ]
  },
  {
   "cell_type": "code",
   "execution_count": null,
   "id": "9db1412a",
   "metadata": {},
   "outputs": [],
   "source": [
    "data['mes'] = data['fecha'].apply(lambda x: x.month)\n",
    "\n",
    "#graficar\n",
    "sns.countplot(x='mes', data=data, palette=static_palette)\n",
    "plt.xlabel('Mes')\n",
    "plt.ylabel('Delitos')\n",
    "plt.title('Distribución de delitos por mes')\n",
    "plt.xticks(rotation=90)\n",
    "plt.show()"
   ]
  },
  {
   "cell_type": "code",
   "execution_count": null,
   "id": "f57bebfa",
   "metadata": {},
   "outputs": [],
   "source": [
    "data.to_csv(\"datos_seguridad_limpios.csv\")"
   ]
  },
  {
   "cell_type": "code",
   "execution_count": null,
   "id": "8bae1ada",
   "metadata": {},
   "outputs": [],
   "source": []
  }
 ],
 "metadata": {
  "kernelspec": {
   "display_name": "Python 3 (ipykernel)",
   "language": "python",
   "name": "python3"
  },
  "language_info": {
   "codemirror_mode": {
    "name": "ipython",
    "version": 3
   },
   "file_extension": ".py",
   "mimetype": "text/x-python",
   "name": "python",
   "nbconvert_exporter": "python",
   "pygments_lexer": "ipython3",
   "version": "3.10.9"
  }
 },
 "nbformat": 4,
 "nbformat_minor": 5
}
